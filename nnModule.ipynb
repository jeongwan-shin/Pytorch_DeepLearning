{
  "nbformat": 4,
  "nbformat_minor": 0,
  "metadata": {
    "colab": {
      "name": "nnModule.ipynb",
      "provenance": [],
      "authorship_tag": "ABX9TyOOhiyZFVbmE/TWLOHPOax3",
      "include_colab_link": true
    },
    "kernelspec": {
      "name": "python3",
      "display_name": "Python 3"
    }
  },
  "cells": [
    {
      "cell_type": "markdown",
      "metadata": {
        "id": "view-in-github",
        "colab_type": "text"
      },
      "source": [
        "<a href=\"https://colab.research.google.com/github/jeongwan-shin/Pytorch_DeepLearning/blob/main/nnModule.ipynb\" target=\"_parent\"><img src=\"https://colab.research.google.com/assets/colab-badge.svg\" alt=\"Open In Colab\"/></a>"
      ]
    },
    {
      "cell_type": "code",
      "metadata": {
        "colab": {
          "base_uri": "https://localhost:8080/"
        },
        "id": "jVlMzX2GcfLm",
        "outputId": "043cfdc3-3299-486f-b374-dc6454da1f83"
      },
      "source": [
        "import torch\r\n",
        "import torch.nn as nn\r\n",
        "import torch.nn.functional as F\r\n",
        "torch.manual_seed(1)"
      ],
      "execution_count": 1,
      "outputs": [
        {
          "output_type": "execute_result",
          "data": {
            "text/plain": [
              "<torch._C.Generator at 0x7f0f46ee5b70>"
            ]
          },
          "metadata": {
            "tags": []
          },
          "execution_count": 1
        }
      ]
    },
    {
      "cell_type": "code",
      "metadata": {
        "id": "0NZzgW6dck7o"
      },
      "source": [
        "#데이터\r\n",
        "x_train = torch.FloatTensor([[1], [2], [3]])\r\n",
        "y_train = torch.FloatTensor([[2], [4], [6]])"
      ],
      "execution_count": 3,
      "outputs": []
    },
    {
      "cell_type": "code",
      "metadata": {
        "id": "yXlqwYgdc5nW"
      },
      "source": [
        "# 모델을 선언 및 초기화. 단순 선형 회귀이므로 input_dim=1, output_dim=1.\r\n",
        "model = nn.Linear(1,1)"
      ],
      "execution_count": 4,
      "outputs": []
    },
    {
      "cell_type": "code",
      "metadata": {
        "colab": {
          "base_uri": "https://localhost:8080/"
        },
        "id": "8MOKJn61c94G",
        "outputId": "99368a52-b626-4ff8-a5d8-18e2ec8d261d"
      },
      "source": [
        "print(list(model.parameters()))"
      ],
      "execution_count": 5,
      "outputs": [
        {
          "output_type": "stream",
          "text": [
            "[Parameter containing:\n",
            "tensor([[0.5153]], requires_grad=True), Parameter containing:\n",
            "tensor([-0.4414], requires_grad=True)]\n"
          ],
          "name": "stdout"
        }
      ]
    },
    {
      "cell_type": "code",
      "metadata": {
        "colab": {
          "base_uri": "https://localhost:8080/"
        },
        "id": "acro1FYRc-5G",
        "outputId": "ea76eb08-a7de-436d-a997-cd17759f036c"
      },
      "source": [
        "optimizer = torch.optim.SGD(model.parameters(), lr=0.01) \r\n",
        "# 전체 훈련 데이터에 대해 경사 하강법을 2,000회 반복\r\n",
        "nb_epochs = 2000\r\n",
        "for epoch in range(nb_epochs+1):\r\n",
        "\r\n",
        "    # H(x) 계산\r\n",
        "    prediction = model(x_train)\r\n",
        "\r\n",
        "    # cost 계산\r\n",
        "    cost = F.mse_loss(prediction, y_train) # <== 파이토치에서 제공하는 평균 제곱 오차 함수\r\n",
        "\r\n",
        "    # cost로 H(x) 개선하는 부분\r\n",
        "    # gradient를 0으로 초기화\r\n",
        "    optimizer.zero_grad()\r\n",
        "    # 비용 함수를 미분하여 gradient 계산\r\n",
        "    cost.backward() # backward 연산\r\n",
        "    # W와 b를 업데이트\r\n",
        "    optimizer.step()\r\n",
        "\r\n",
        "    if epoch % 100 == 0:\r\n",
        "    # 100번마다 로그 출력\r\n",
        "      print('Epoch {:4d}/{} Cost: {:.6f}'.format(\r\n",
        "          epoch, nb_epochs, cost.item()\r\n",
        "      ))"
      ],
      "execution_count": 6,
      "outputs": [
        {
          "output_type": "stream",
          "text": [
            "Epoch    0/2000 Cost: 13.103541\n",
            "Epoch  100/2000 Cost: 0.002791\n",
            "Epoch  200/2000 Cost: 0.001724\n",
            "Epoch  300/2000 Cost: 0.001066\n",
            "Epoch  400/2000 Cost: 0.000658\n",
            "Epoch  500/2000 Cost: 0.000407\n",
            "Epoch  600/2000 Cost: 0.000251\n",
            "Epoch  700/2000 Cost: 0.000155\n",
            "Epoch  800/2000 Cost: 0.000096\n",
            "Epoch  900/2000 Cost: 0.000059\n",
            "Epoch 1000/2000 Cost: 0.000037\n",
            "Epoch 1100/2000 Cost: 0.000023\n",
            "Epoch 1200/2000 Cost: 0.000014\n",
            "Epoch 1300/2000 Cost: 0.000009\n",
            "Epoch 1400/2000 Cost: 0.000005\n",
            "Epoch 1500/2000 Cost: 0.000003\n",
            "Epoch 1600/2000 Cost: 0.000002\n",
            "Epoch 1700/2000 Cost: 0.000001\n",
            "Epoch 1800/2000 Cost: 0.000001\n",
            "Epoch 1900/2000 Cost: 0.000000\n",
            "Epoch 2000/2000 Cost: 0.000000\n"
          ],
          "name": "stdout"
        }
      ]
    },
    {
      "cell_type": "code",
      "metadata": {
        "colab": {
          "base_uri": "https://localhost:8080/"
        },
        "id": "sGepHmsSdIM-",
        "outputId": "67d52a62-4809-4844-a270-f554fb6c9caf"
      },
      "source": [
        "# 임의의 입력 4를 선언\r\n",
        "new_var =  torch.FloatTensor([[4.0]]) \r\n",
        "# 입력한 값 4에 대해서 예측값 y를 리턴받아서 pred_y에 저장\r\n",
        "pred_y = model(new_var) # forward 연산\r\n",
        "# y = 2x 이므로 입력이 4라면 y가 8에 가까운 값이 나와야 제대로 학습이 된 것\r\n",
        "print(\"훈련 후 입력이 4일 때의 예측값 :\", pred_y) "
      ],
      "execution_count": 7,
      "outputs": [
        {
          "output_type": "stream",
          "text": [
            "훈련 후 입력이 4일 때의 예측값 : tensor([[7.9989]], grad_fn=<AddmmBackward>)\n"
          ],
          "name": "stdout"
        }
      ]
    },
    {
      "cell_type": "code",
      "metadata": {
        "colab": {
          "base_uri": "https://localhost:8080/"
        },
        "id": "-Pv5Ho2zdNjN",
        "outputId": "f2034c4e-3f14-4715-bff4-e8c88bda0e69"
      },
      "source": [
        "print(list(model.parameters()))"
      ],
      "execution_count": 8,
      "outputs": [
        {
          "output_type": "stream",
          "text": [
            "[Parameter containing:\n",
            "tensor([[1.9994]], requires_grad=True), Parameter containing:\n",
            "tensor([0.0014], requires_grad=True)]\n"
          ],
          "name": "stdout"
        }
      ]
    },
    {
      "cell_type": "code",
      "metadata": {
        "id": "cscwImumdQxN"
      },
      "source": [
        ""
      ],
      "execution_count": null,
      "outputs": []
    }
  ]
}