{
  "nbformat": 4,
  "nbformat_minor": 0,
  "metadata": {
    "colab": {
      "name": "2. Multivariable_Linear Regression.ipynb",
      "provenance": [],
      "authorship_tag": "ABX9TyPsiZ08y8pYeWMCiEEs6T5o",
      "include_colab_link": true
    },
    "kernelspec": {
      "name": "python3",
      "display_name": "Python 3"
    }
  },
  "cells": [
    {
      "cell_type": "markdown",
      "metadata": {
        "id": "view-in-github",
        "colab_type": "text"
      },
      "source": [
        "<a href=\"https://colab.research.google.com/github/jeongwan-shin/Pytorch_DeepLearning/blob/main/2_Multivariable_Linear_Regression.ipynb\" target=\"_parent\"><img src=\"https://colab.research.google.com/assets/colab-badge.svg\" alt=\"Open In Colab\"/></a>"
      ]
    },
    {
      "cell_type": "code",
      "metadata": {
        "colab": {
          "base_uri": "https://localhost:8080/"
        },
        "id": "nS4KBpQARwgc",
        "outputId": "ba214b8f-fc68-4b68-fa70-e9a8b17fe2d5"
      },
      "source": [
        "import torch\r\n",
        "import torch.nn as nn\r\n",
        "import torch.nn.functional as F\r\n",
        "import torch.optim as optim\r\n",
        "torch.manual_seed(1)"
      ],
      "execution_count": 1,
      "outputs": [
        {
          "output_type": "execute_result",
          "data": {
            "text/plain": [
              "<torch._C.Generator at 0x7f42daf9fb58>"
            ]
          },
          "metadata": {
            "tags": []
          },
          "execution_count": 1
        }
      ]
    },
    {
      "cell_type": "markdown",
      "metadata": {
        "id": "mjrKFc-PR-Gu"
      },
      "source": [
        "![1444.PNG](data:image/png;base64,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)\r\n",
        "\r\n",
        "위의 식을 보면 이번에는 단순 선형 회귀와 다르게 x의 개수가 3개입니다. 그러니까 x를 3개 선언합니다."
      ]
    },
    {
      "cell_type": "code",
      "metadata": {
        "colab": {
          "base_uri": "https://localhost:8080/"
        },
        "id": "x7g8Mi_5Ry8r",
        "outputId": "0b11ad65-e852-4f3f-9aa5-6082709c04f5"
      },
      "source": [
        "# 훈련 데이터\r\n",
        "x1_train = torch.FloatTensor([[73], [93], [89], [96], [73]])\r\n",
        "x2_train = torch.FloatTensor([[80], [88], [91], [98], [66]])\r\n",
        "x3_train = torch.FloatTensor([[75], [93], [90], [100], [70]])\r\n",
        "y_train = torch.FloatTensor([[152], [185], [180], [196], [142]])\r\n",
        "print(x1_train.size())"
      ],
      "execution_count": 5,
      "outputs": [
        {
          "output_type": "stream",
          "text": [
            "torch.Size([5, 1])\n"
          ],
          "name": "stdout"
        }
      ]
    },
    {
      "cell_type": "code",
      "metadata": {
        "id": "iLzbfp7ZR51a"
      },
      "source": [
        "# 가중치 w와 편향 b 초기화\r\n",
        "w1 = torch.zeros(1, requires_grad=True)\r\n",
        "w2 = torch.zeros(1, requires_grad=True)\r\n",
        "w3 = torch.zeros(1, requires_grad=True)\r\n",
        "b = torch.zeros(1, requires_grad=True)"
      ],
      "execution_count": 3,
      "outputs": []
    },
    {
      "cell_type": "code",
      "metadata": {
        "colab": {
          "base_uri": "https://localhost:8080/"
        },
        "id": "CMmwGAFESbcu",
        "outputId": "233f948d-69cf-4b3f-d526-6548398b39d2"
      },
      "source": [
        "# optimizer 설정\r\n",
        "optimizer = optim.SGD([w1, w2, w3, b], lr=1e-5)\r\n",
        "\r\n",
        "nb_epochs = 1000\r\n",
        "for epoch in range(nb_epochs + 1):\r\n",
        "\r\n",
        "    # H(x) 계산\r\n",
        "    hypothesis = x1_train * w1 + x2_train * w2 + x3_train * w3 + b\r\n",
        "\r\n",
        "    # cost 계산\r\n",
        "    cost = torch.mean((hypothesis - y_train) ** 2)\r\n",
        "\r\n",
        "    # cost로 H(x) 개선\r\n",
        "    optimizer.zero_grad()\r\n",
        "    cost.backward()\r\n",
        "    optimizer.step()\r\n",
        "\r\n",
        "    # 100번마다 로그 출력\r\n",
        "    if epoch % 100 == 0:\r\n",
        "        print('Epoch {:4d}/{} w1: {:.3f} w2: {:.3f} w3: {:.3f} b: {:.3f} Cost: {:.6f}'.format(\r\n",
        "            epoch, nb_epochs, w1.item(), w2.item(), w3.item(), b.item(), cost.item()\r\n",
        "        ))"
      ],
      "execution_count": 4,
      "outputs": [
        {
          "output_type": "stream",
          "text": [
            "Epoch    0/1000 w1: 0.294 w2: 0.294 w3: 0.297 b: 0.003 Cost: 29661.800781\n",
            "Epoch  100/1000 w1: 0.674 w2: 0.661 w3: 0.676 b: 0.008 Cost: 1.563628\n",
            "Epoch  200/1000 w1: 0.679 w2: 0.655 w3: 0.677 b: 0.008 Cost: 1.497595\n",
            "Epoch  300/1000 w1: 0.684 w2: 0.649 w3: 0.677 b: 0.008 Cost: 1.435044\n",
            "Epoch  400/1000 w1: 0.689 w2: 0.643 w3: 0.678 b: 0.008 Cost: 1.375726\n",
            "Epoch  500/1000 w1: 0.694 w2: 0.638 w3: 0.678 b: 0.009 Cost: 1.319507\n",
            "Epoch  600/1000 w1: 0.699 w2: 0.633 w3: 0.679 b: 0.009 Cost: 1.266222\n",
            "Epoch  700/1000 w1: 0.704 w2: 0.627 w3: 0.679 b: 0.009 Cost: 1.215703\n",
            "Epoch  800/1000 w1: 0.709 w2: 0.622 w3: 0.679 b: 0.009 Cost: 1.167810\n",
            "Epoch  900/1000 w1: 0.713 w2: 0.617 w3: 0.680 b: 0.009 Cost: 1.122429\n",
            "Epoch 1000/1000 w1: 0.718 w2: 0.613 w3: 0.680 b: 0.009 Cost: 1.079390\n"
          ],
          "name": "stdout"
        }
      ]
    },
    {
      "cell_type": "markdown",
      "metadata": {
        "id": "yzQTYRBtUR81"
      },
      "source": [
        "**행렬 연산 고려하여 Pytorch 구현**"
      ]
    },
    {
      "cell_type": "code",
      "metadata": {
        "colab": {
          "base_uri": "https://localhost:8080/"
        },
        "id": "MUZQpBqXT8Ta",
        "outputId": "7921455a-80ce-43e2-a868-55630ab3ea66"
      },
      "source": [
        "x_train  =  torch.FloatTensor([[73,  80,  75], \r\n",
        "                               [93,  88,  93], \r\n",
        "                               [89,  91,  90], \r\n",
        "                               [96,  98,  100],   \r\n",
        "                               [73,  66,  70]])  \r\n",
        "y_train  =  torch.FloatTensor([[152],  [185],  [180],  [196],  [142]])\r\n",
        "print(x_train.size())\r\n",
        "print(y_train.size())"
      ],
      "execution_count": 6,
      "outputs": [
        {
          "output_type": "stream",
          "text": [
            "torch.Size([5, 3])\n",
            "torch.Size([5, 1])\n"
          ],
          "name": "stdout"
        }
      ]
    },
    {
      "cell_type": "code",
      "metadata": {
        "id": "VxQlnd5jUCT7"
      },
      "source": [
        "# 가중치와 편향 선언\r\n",
        "W = torch.zeros((3, 1), requires_grad=True)\r\n",
        "b = torch.zeros(1, requires_grad=True)\r\n",
        "\r\n",
        "hypothesis = x_train.matmul(W) + b"
      ],
      "execution_count": 7,
      "outputs": []
    },
    {
      "cell_type": "code",
      "metadata": {
        "colab": {
          "base_uri": "https://localhost:8080/"
        },
        "id": "pJW2KUPhUext",
        "outputId": "f39f95bc-1c94-4c96-faec-292f952027ae"
      },
      "source": [
        "x_train  =  torch.FloatTensor([[73,  80,  75], \r\n",
        "                               [93,  88,  93], \r\n",
        "                               [89,  91,  90], \r\n",
        "                               [96,  98,  100],   \r\n",
        "                               [73,  66,  70]])  \r\n",
        "y_train  =  torch.FloatTensor([[152],  [185],  [180],  [196],  [142]])\r\n",
        "\r\n",
        "# 모델 초기화\r\n",
        "W = torch.zeros((3, 1), requires_grad=True)\r\n",
        "b = torch.zeros(1, requires_grad=True)\r\n",
        "# optimizer 설정\r\n",
        "optimizer = optim.SGD([W, b], lr=1e-5)\r\n",
        "\r\n",
        "nb_epochs = 20\r\n",
        "for epoch in range(nb_epochs + 1):\r\n",
        "\r\n",
        "    # H(x) 계산\r\n",
        "    # 편향 b는 브로드 캐스팅되어 각 샘플에 더해집니다.\r\n",
        "    hypothesis = x_train.matmul(W) + b\r\n",
        "\r\n",
        "    # cost 계산\r\n",
        "    cost = torch.mean((hypothesis - y_train) ** 2)\r\n",
        "\r\n",
        "    # cost로 H(x) 개선\r\n",
        "    optimizer.zero_grad()\r\n",
        "    cost.backward()\r\n",
        "    optimizer.step()\r\n",
        "\r\n",
        "    # 100번마다 로그 출력\r\n",
        "    print('Epoch {:4d}/{} hypothesis: {} Cost: {:.6f}'.format(\r\n",
        "        epoch, nb_epochs, hypothesis.squeeze().detach(), cost.item()\r\n",
        "    ))"
      ],
      "execution_count": 10,
      "outputs": [
        {
          "output_type": "stream",
          "text": [
            "Epoch    0/20 hypothesis: tensor([0., 0., 0., 0., 0.]) Cost: 29661.800781\n",
            "Epoch    1/20 hypothesis: tensor([67.2578, 80.8397, 79.6523, 86.7394, 61.6605]) Cost: 9298.520508\n",
            "Epoch    2/20 hypothesis: tensor([104.9128, 126.0990, 124.2466, 135.3015,  96.1821]) Cost: 2915.712402\n",
            "Epoch    3/20 hypothesis: tensor([125.9942, 151.4381, 149.2133, 162.4896, 115.5097]) Cost: 915.040527\n",
            "Epoch    4/20 hypothesis: tensor([137.7967, 165.6247, 163.1911, 177.7112, 126.3307]) Cost: 287.936096\n",
            "Epoch    5/20 hypothesis: tensor([144.4044, 173.5674, 171.0168, 186.2332, 132.3891]) Cost: 91.371063\n",
            "Epoch    6/20 hypothesis: tensor([148.1035, 178.0143, 175.3980, 191.0042, 135.7812]) Cost: 29.758249\n",
            "Epoch    7/20 hypothesis: tensor([150.1744, 180.5042, 177.8509, 193.6753, 137.6805]) Cost: 10.445267\n",
            "Epoch    8/20 hypothesis: tensor([151.3336, 181.8983, 179.2240, 195.1707, 138.7440]) Cost: 4.391237\n",
            "Epoch    9/20 hypothesis: tensor([151.9824, 182.6789, 179.9928, 196.0079, 139.3396]) Cost: 2.493121\n",
            "Epoch   10/20 hypothesis: tensor([152.3454, 183.1161, 180.4231, 196.4765, 139.6732]) Cost: 1.897688\n",
            "Epoch   11/20 hypothesis: tensor([152.5485, 183.3609, 180.6640, 196.7389, 139.8602]) Cost: 1.710552\n",
            "Epoch   12/20 hypothesis: tensor([152.6620, 183.4982, 180.7988, 196.8857, 139.9651]) Cost: 1.651416\n",
            "Epoch   13/20 hypothesis: tensor([152.7253, 183.5752, 180.8742, 196.9678, 140.0240]) Cost: 1.632369\n",
            "Epoch   14/20 hypothesis: tensor([152.7606, 183.6184, 180.9164, 197.0138, 140.0571]) Cost: 1.625924\n",
            "Epoch   15/20 hypothesis: tensor([152.7802, 183.6427, 180.9399, 197.0395, 140.0759]) Cost: 1.623420\n",
            "Epoch   16/20 hypothesis: tensor([152.7909, 183.6565, 180.9530, 197.0538, 140.0865]) Cost: 1.622152\n",
            "Epoch   17/20 hypothesis: tensor([152.7968, 183.6643, 180.9603, 197.0618, 140.0927]) Cost: 1.621262\n",
            "Epoch   18/20 hypothesis: tensor([152.7999, 183.6688, 180.9644, 197.0661, 140.0963]) Cost: 1.620501\n",
            "Epoch   19/20 hypothesis: tensor([152.8014, 183.6715, 180.9665, 197.0686, 140.0985]) Cost: 1.619757\n",
            "Epoch   20/20 hypothesis: tensor([152.8020, 183.6731, 180.9677, 197.0699, 140.0999]) Cost: 1.619046\n"
          ],
          "name": "stdout"
        }
      ]
    },
    {
      "cell_type": "code",
      "metadata": {
        "id": "d7g87QqoWjaq"
      },
      "source": [
        ""
      ],
      "execution_count": null,
      "outputs": []
    }
  ]
}
